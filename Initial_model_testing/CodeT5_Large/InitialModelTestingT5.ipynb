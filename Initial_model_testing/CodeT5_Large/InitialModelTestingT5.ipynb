{
  "nbformat": 4,
  "nbformat_minor": 0,
  "metadata": {
    "colab": {
      "provenance": []
    },
    "kernelspec": {
      "name": "python3",
      "display_name": "Python 3"
    },
    "language_info": {
      "name": "python"
    }
  },
  "cells": [
    {
      "cell_type": "code",
      "execution_count": 16,
      "metadata": {
        "colab": {
          "base_uri": "https://localhost:8080/"
        },
        "id": "iEjzzxyc0PzF",
        "outputId": "0bd88010-e715-48c7-8c0a-b8adb7b4603c"
      },
      "outputs": [
        {
          "output_type": "stream",
          "name": "stdout",
          "text": [
            "Requirement already satisfied: transformers in /usr/local/lib/python3.10/dist-packages (4.46.2)\n",
            "Requirement already satisfied: datasets in /usr/local/lib/python3.10/dist-packages (3.1.0)\n",
            "Requirement already satisfied: filelock in /usr/local/lib/python3.10/dist-packages (from transformers) (3.16.1)\n",
            "Requirement already satisfied: huggingface-hub<1.0,>=0.23.2 in /usr/local/lib/python3.10/dist-packages (from transformers) (0.26.2)\n",
            "Requirement already satisfied: numpy>=1.17 in /usr/local/lib/python3.10/dist-packages (from transformers) (1.26.4)\n",
            "Requirement already satisfied: packaging>=20.0 in /usr/local/lib/python3.10/dist-packages (from transformers) (24.2)\n",
            "Requirement already satisfied: pyyaml>=5.1 in /usr/local/lib/python3.10/dist-packages (from transformers) (6.0.2)\n",
            "Requirement already satisfied: regex!=2019.12.17 in /usr/local/lib/python3.10/dist-packages (from transformers) (2024.9.11)\n",
            "Requirement already satisfied: requests in /usr/local/lib/python3.10/dist-packages (from transformers) (2.32.3)\n",
            "Requirement already satisfied: safetensors>=0.4.1 in /usr/local/lib/python3.10/dist-packages (from transformers) (0.4.5)\n",
            "Requirement already satisfied: tokenizers<0.21,>=0.20 in /usr/local/lib/python3.10/dist-packages (from transformers) (0.20.3)\n",
            "Requirement already satisfied: tqdm>=4.27 in /usr/local/lib/python3.10/dist-packages (from transformers) (4.66.6)\n",
            "Requirement already satisfied: pyarrow>=15.0.0 in /usr/local/lib/python3.10/dist-packages (from datasets) (17.0.0)\n",
            "Requirement already satisfied: dill<0.3.9,>=0.3.0 in /usr/local/lib/python3.10/dist-packages (from datasets) (0.3.8)\n",
            "Requirement already satisfied: pandas in /usr/local/lib/python3.10/dist-packages (from datasets) (2.2.2)\n",
            "Requirement already satisfied: xxhash in /usr/local/lib/python3.10/dist-packages (from datasets) (3.5.0)\n",
            "Requirement already satisfied: multiprocess<0.70.17 in /usr/local/lib/python3.10/dist-packages (from datasets) (0.70.16)\n",
            "Requirement already satisfied: fsspec<=2024.9.0,>=2023.1.0 in /usr/local/lib/python3.10/dist-packages (from fsspec[http]<=2024.9.0,>=2023.1.0->datasets) (2024.9.0)\n",
            "Requirement already satisfied: aiohttp in /usr/local/lib/python3.10/dist-packages (from datasets) (3.11.2)\n",
            "Requirement already satisfied: aiohappyeyeballs>=2.3.0 in /usr/local/lib/python3.10/dist-packages (from aiohttp->datasets) (2.4.3)\n",
            "Requirement already satisfied: aiosignal>=1.1.2 in /usr/local/lib/python3.10/dist-packages (from aiohttp->datasets) (1.3.1)\n",
            "Requirement already satisfied: attrs>=17.3.0 in /usr/local/lib/python3.10/dist-packages (from aiohttp->datasets) (24.2.0)\n",
            "Requirement already satisfied: frozenlist>=1.1.1 in /usr/local/lib/python3.10/dist-packages (from aiohttp->datasets) (1.5.0)\n",
            "Requirement already satisfied: multidict<7.0,>=4.5 in /usr/local/lib/python3.10/dist-packages (from aiohttp->datasets) (6.1.0)\n",
            "Requirement already satisfied: propcache>=0.2.0 in /usr/local/lib/python3.10/dist-packages (from aiohttp->datasets) (0.2.0)\n",
            "Requirement already satisfied: yarl<2.0,>=1.17.0 in /usr/local/lib/python3.10/dist-packages (from aiohttp->datasets) (1.17.2)\n",
            "Requirement already satisfied: async-timeout<6.0,>=4.0 in /usr/local/lib/python3.10/dist-packages (from aiohttp->datasets) (4.0.3)\n",
            "Requirement already satisfied: typing-extensions>=3.7.4.3 in /usr/local/lib/python3.10/dist-packages (from huggingface-hub<1.0,>=0.23.2->transformers) (4.12.2)\n",
            "Requirement already satisfied: charset-normalizer<4,>=2 in /usr/local/lib/python3.10/dist-packages (from requests->transformers) (3.4.0)\n",
            "Requirement already satisfied: idna<4,>=2.5 in /usr/local/lib/python3.10/dist-packages (from requests->transformers) (3.10)\n",
            "Requirement already satisfied: urllib3<3,>=1.21.1 in /usr/local/lib/python3.10/dist-packages (from requests->transformers) (2.2.3)\n",
            "Requirement already satisfied: certifi>=2017.4.17 in /usr/local/lib/python3.10/dist-packages (from requests->transformers) (2024.8.30)\n",
            "Requirement already satisfied: python-dateutil>=2.8.2 in /usr/local/lib/python3.10/dist-packages (from pandas->datasets) (2.8.2)\n",
            "Requirement already satisfied: pytz>=2020.1 in /usr/local/lib/python3.10/dist-packages (from pandas->datasets) (2024.2)\n",
            "Requirement already satisfied: tzdata>=2022.7 in /usr/local/lib/python3.10/dist-packages (from pandas->datasets) (2024.2)\n",
            "Requirement already satisfied: six>=1.5 in /usr/local/lib/python3.10/dist-packages (from python-dateutil>=2.8.2->pandas->datasets) (1.16.0)\n"
          ]
        }
      ],
      "source": [
        "!pip install transformers datasets"
      ]
    },
    {
      "cell_type": "code",
      "source": [
        "import json\n",
        "from transformers import AutoModelForSeq2SeqLM, AutoTokenizer"
      ],
      "metadata": {
        "id": "lr8J1XmO0cPB"
      },
      "execution_count": 17,
      "outputs": []
    },
    {
      "cell_type": "code",
      "source": [
        "file_path = \"/content/Testing_dataset_simple.jsonl\"\n",
        "\n",
        "with open(file_path, 'r') as f:\n",
        "    data = [json.loads(line) for line in f]\n",
        "\n",
        "print(\"Example Question:\")\n",
        "print(data[0][\"question\"])"
      ],
      "metadata": {
        "colab": {
          "base_uri": "https://localhost:8080/"
        },
        "id": "fKrjS5vD0fYk",
        "outputId": "ed16f6df-1631-4442-f81b-a3a42d42230a"
      },
      "execution_count": 18,
      "outputs": [
        {
          "output_type": "stream",
          "name": "stdout",
          "text": [
            "Example Question:\n",
            "What is the sum of 3 and 5?\n"
          ]
        }
      ]
    },
    {
      "cell_type": "code",
      "source": [
        "instruction = \"Convert this word problem into Python code to calculate the answer:\"\n",
        "for item in data:\n",
        "    item[\"question\"] = f\"{instruction} {item['question']}\"\n",
        "\n",
        "print(\"Example Question with Instruction:\")\n",
        "print(data[0][\"question\"])"
      ],
      "metadata": {
        "colab": {
          "base_uri": "https://localhost:8080/"
        },
        "id": "4EXK5dIa0kmP",
        "outputId": "9a900e37-1189-4dcb-f74a-290e8b98bdaa"
      },
      "execution_count": 19,
      "outputs": [
        {
          "output_type": "stream",
          "name": "stdout",
          "text": [
            "Example Question with Instruction:\n",
            "Convert this word problem into Python code to calculate the answer: What is the sum of 3 and 5?\n"
          ]
        }
      ]
    },
    {
      "cell_type": "code",
      "source": [
        "model_name = \"Salesforce/codet5-large\"  #switch between models\n",
        "tokenizer = AutoTokenizer.from_pretrained(model_name)\n",
        "model = AutoModelForSeq2SeqLM.from_pretrained(model_name)"
      ],
      "metadata": {
        "id": "0wGGzJMP0nlw"
      },
      "execution_count": 20,
      "outputs": []
    },
    {
      "cell_type": "code",
      "source": [
        "def generate_code(question, model, tokenizer, max_length=100):\n",
        "\n",
        "    inputs = tokenizer(question, return_tensors=\"pt\")\n",
        "\n",
        "    outputs = model.generate(inputs[\"input_ids\"], max_length=max_length)\n",
        "\n",
        "    return tokenizer.decode(outputs[0], skip_special_tokens=True)"
      ],
      "metadata": {
        "id": "CzgN0yN20ua_"
      },
      "execution_count": 21,
      "outputs": []
    },
    {
      "cell_type": "code",
      "source": [
        "question = data[0][\"question\"]\n",
        "generated_code = generate_code(question, model, tokenizer)\n",
        "print(\"Question:\", question)\n",
        "print(\"Generated Code:\", generated_code)"
      ],
      "metadata": {
        "colab": {
          "base_uri": "https://localhost:8080/"
        },
        "id": "OIUg_k0t0yjX",
        "outputId": "62be78d8-792a-4bc8-dbe7-e2539eff6529"
      },
      "execution_count": 22,
      "outputs": [
        {
          "output_type": "stream",
          "name": "stdout",
          "text": [
            "Question: Convert this word problem into Python code to calculate the answer: What is the sum of 3 and 5?\n",
            "Generated Code: \n",
            "\",\n",
            "\"\",\n",
            "\"\",\n",
            "\"\",\n",
            "\"\",\n",
            "\"\",\n",
            "\"What is the sum of 3 and 5?\",\n",
            "\"\",\n",
            "\"\",\n",
            "\"\",\n",
            "\"\",\n",
            "\"What is the sum of 3 and 5?\",\n",
            "\"\",\n",
            "\".\",\"\",\n",
            "\"\",\n",
            "\".\",\".\",\":\",\n",
            "\".\",\"\n"
          ]
        }
      ]
    },
    {
      "cell_type": "code",
      "source": [
        "for item in data[:10]:  #Limits to the first 5 questions\n",
        "    question = item[\"question\"]\n",
        "    print(\"Question:\", question)\n",
        "    generated_code = generate_code(question, model, tokenizer)\n",
        "    print(\"Generated Code:\", generated_code)\n",
        "    print(\"-\" * 50)"
      ],
      "metadata": {
        "colab": {
          "base_uri": "https://localhost:8080/"
        },
        "id": "Ydw0tbd800fB",
        "outputId": "0249deda-fdeb-4b87-ff20-948602ff7d6d"
      },
      "execution_count": 23,
      "outputs": [
        {
          "output_type": "stream",
          "name": "stdout",
          "text": [
            "Question: Convert this word problem into Python code to calculate the answer: What is the sum of 3 and 5?\n",
            "Generated Code: \n",
            "\",\n",
            "\"\",\n",
            "\"\",\n",
            "\"\",\n",
            "\"\",\n",
            "\"\",\n",
            "\"What is the sum of 3 and 5?\",\n",
            "\"\",\n",
            "\"\",\n",
            "\"\",\n",
            "\"\",\n",
            "\"What is the sum of 3 and 5?\",\n",
            "\"\",\n",
            "\".\",\"\",\n",
            "\"\",\n",
            "\".\",\".\",\":\",\n",
            "\".\",\"\n",
            "--------------------------------------------------\n",
            "Question: Convert this word problem into Python code to calculate the answer: What is the result of subtracting 7 from 10?\n",
            "Generated Code: \",description:\"\",example:\"\",example2:\"\",description3=\"\",description4=\"\",description4=\"\",example3=\"The result is: What is the result of subtracting 7 from 10 from 11?\",description4=\"\",example4=\"\",\"\",\"\",\"\\n\\n? Where is the result of\",\"\",\"\",\" code to.\",\".\",\": to.\"\n",
            "--------------------------------------------------\n",
            "Question: Convert this word problem into Python code to calculate the answer: What is the product of 4 and 6?\n",
            "Generated Code: \",\"\"),\"\",\"\"),\"\",\"\"),\"\",\"\"),\"\",\"\"),\"\",\"\"),\"\",\"\"),\"The product of 4 and 6 is the product of 4 and 6?\",\"\"),\"\",\"\"),\"6\"),\"4, 6\"),\"6\"),\"6\"),\"\"\n",
            "\"?\",\"\"),\"\"\",\"\",\"\",\"\",\n",
            "--------------------------------------------------\n",
            "Question: Convert this word problem into Python code to calculate the answer: What is the result of dividing 12 by 3?\n",
            "Generated Code: \",description:\"\",description2:\"\",description3=\"\",description3=\"\",\"33\",description3=\"The answer is:\",\"\",\"The answer is: 3\"],\"Example:\",\"The answer is: 3,\n",
            "\"\"],\"3\"),\"3\"],\"Example 3:3? Or\",\"\",\"\",\"\",\":\",\".\",\":\",\".\",\"\n",
            "--------------------------------------------------\n",
            "Question: Convert this word problem into Python code to calculate the answer: What is the sum of 8 and 15?\n",
            "Generated Code: \",\"\"),\"?\",\"\"),\"\",\"\"),\"\",\"\"),\"\",\"\"),\"\",\"\"),\"??\",\"\"),\"\",\"\"),\"\",\"\",\"??\",\"\",\".\",\"\",\"\"\"?\",\"\",\".\",\".\",\"?\",\"\",\"The answer is the sum of?\",\"\",\".\",\"?\",\n",
            "--------------------------------------------------\n",
            "Question: Convert this word problem into Python code to calculate the answer: What is the result of subtracting 20 from 50?\n",
            "Generated Code: \n",
            "\n",
            "\n",
            "\",\"\")}function _(){return\"\",\"\")}function _(){return\"\",\"\",\"\")}function _(){return\"\",\"\"}function _(){return\"\",\"\"}function _(){return\"\",\"\"}function _(){return\"\",\"\",\"\",\"\"\"\",\"\",\"\",\"\",\"\"\".\",\"\",\"\":\".\",\".\",\"\n",
            "--------------------------------------------------\n",
            "Question: Convert this word problem into Python code to calculate the answer: What is the product of 7 and 3?\n",
            "Generated Code: \",\"\")}\",\"\"}function _(){return\"\",\"\"}function _(){}return_(),\"This is a very simple example.\"}(),\"The product of 7 and 3 is the product of 7 and 3?\",\n",
            "\"The product of 7 and 3 is the product of 7 and 3?\",\"\")}\n",
            "\n",
            "\n",
            "\n",
            "\n",
            "   \",\"\")}return\"\"\"\",\"\"\"\",\"\"),\n",
            "--------------------------------------------------\n",
            "Question: Convert this word problem into Python code to calculate the answer: What is the result of dividing 100 by 25?\n",
            "Generated Code: \n",
            "\n",
            "\n",
            "\n",
            "\n",
            "\n",
            "\n",
            "\n",
            "\n",
            "\n",
            "\n",
            "\n",
            "\n",
            "What is the result of dividing 100 by 25?\n",
            "\n",
            "\n",
            "\n",
            "What is the result of dividing 100 by 25?\n",
            "What is the result of dividing 100 by 100 by 25?\n",
            "What is the result of dividing 100 by 50?\n",
            "The answer:\n",
            "\n",
            "\n",
            "\n",
            "\n",
            "\n",
            "The result is\n",
            "\n",
            "The result is\n",
            "\n",
            "--------------------------------------------------\n",
            "Question: Convert this word problem into Python code to calculate the answer: What is the sum of 11 and 9?\n",
            "Generated Code: \",description:\"\",example:\"\",example2:\"The answer is what is the sum of 11 and 9?\",description1=\"\",description2=\"\",description3=\"?\",description3=\"?\",description3=\"\",description1=\"\",description2=\"?\",description1=\".\",\"\",description1,\":\",description2,\".\",\":\",\":?\",\"\"),\n",
            "--------------------------------------------------\n",
            "Question: Convert this word problem into Python code to calculate the answer: What is the result of subtracting 5 from 13?\n",
            "Generated Code: \n",
            "\n",
            "\n",
            "\n",
            "\n",
            "\n",
            "Example:\n",
            "\n",
            "    $ foo\n",
            "   \n",
            "\n",
            "\n",
            "\n",
            "\n",
            "\n",
            "\n",
            "\n",
            "    Where is the result of subtracting 5 from 5 from 13?\n",
            "\n",
            "    What is the result of subtracting 5 from 11 from 12?\n",
            "\n",
            "    What is the result of subtracting 5 from 11?\n",
            "\n",
            "    What is the result of\n",
            "\n",
            "   \n",
            "\n",
            "    Where is the result of subtracting\n",
            "\n",
            "--------------------------------------------------\n"
          ]
        }
      ]
    }
  ]
}