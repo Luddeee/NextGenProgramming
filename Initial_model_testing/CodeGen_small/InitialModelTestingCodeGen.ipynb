{
  "nbformat": 4,
  "nbformat_minor": 0,
  "metadata": {
    "colab": {
      "provenance": []
    },
    "kernelspec": {
      "name": "python3",
      "display_name": "Python 3"
    },
    "language_info": {
      "name": "python"
    }
  },
  "cells": [
    {
      "cell_type": "code",
      "execution_count": 37,
      "metadata": {
        "colab": {
          "base_uri": "https://localhost:8080/"
        },
        "id": "iEjzzxyc0PzF",
        "outputId": "4a57aa5d-61a6-48be-f670-dcc05a0a26b6"
      },
      "outputs": [
        {
          "output_type": "stream",
          "name": "stdout",
          "text": [
            "Requirement already satisfied: transformers in /usr/local/lib/python3.10/dist-packages (4.46.2)\n",
            "Requirement already satisfied: datasets in /usr/local/lib/python3.10/dist-packages (3.1.0)\n",
            "Requirement already satisfied: filelock in /usr/local/lib/python3.10/dist-packages (from transformers) (3.16.1)\n",
            "Requirement already satisfied: huggingface-hub<1.0,>=0.23.2 in /usr/local/lib/python3.10/dist-packages (from transformers) (0.26.2)\n",
            "Requirement already satisfied: numpy>=1.17 in /usr/local/lib/python3.10/dist-packages (from transformers) (1.26.4)\n",
            "Requirement already satisfied: packaging>=20.0 in /usr/local/lib/python3.10/dist-packages (from transformers) (24.2)\n",
            "Requirement already satisfied: pyyaml>=5.1 in /usr/local/lib/python3.10/dist-packages (from transformers) (6.0.2)\n",
            "Requirement already satisfied: regex!=2019.12.17 in /usr/local/lib/python3.10/dist-packages (from transformers) (2024.9.11)\n",
            "Requirement already satisfied: requests in /usr/local/lib/python3.10/dist-packages (from transformers) (2.32.3)\n",
            "Requirement already satisfied: safetensors>=0.4.1 in /usr/local/lib/python3.10/dist-packages (from transformers) (0.4.5)\n",
            "Requirement already satisfied: tokenizers<0.21,>=0.20 in /usr/local/lib/python3.10/dist-packages (from transformers) (0.20.3)\n",
            "Requirement already satisfied: tqdm>=4.27 in /usr/local/lib/python3.10/dist-packages (from transformers) (4.66.6)\n",
            "Requirement already satisfied: pyarrow>=15.0.0 in /usr/local/lib/python3.10/dist-packages (from datasets) (17.0.0)\n",
            "Requirement already satisfied: dill<0.3.9,>=0.3.0 in /usr/local/lib/python3.10/dist-packages (from datasets) (0.3.8)\n",
            "Requirement already satisfied: pandas in /usr/local/lib/python3.10/dist-packages (from datasets) (2.2.2)\n",
            "Requirement already satisfied: xxhash in /usr/local/lib/python3.10/dist-packages (from datasets) (3.5.0)\n",
            "Requirement already satisfied: multiprocess<0.70.17 in /usr/local/lib/python3.10/dist-packages (from datasets) (0.70.16)\n",
            "Requirement already satisfied: fsspec<=2024.9.0,>=2023.1.0 in /usr/local/lib/python3.10/dist-packages (from fsspec[http]<=2024.9.0,>=2023.1.0->datasets) (2024.9.0)\n",
            "Requirement already satisfied: aiohttp in /usr/local/lib/python3.10/dist-packages (from datasets) (3.11.2)\n",
            "Requirement already satisfied: aiohappyeyeballs>=2.3.0 in /usr/local/lib/python3.10/dist-packages (from aiohttp->datasets) (2.4.3)\n",
            "Requirement already satisfied: aiosignal>=1.1.2 in /usr/local/lib/python3.10/dist-packages (from aiohttp->datasets) (1.3.1)\n",
            "Requirement already satisfied: attrs>=17.3.0 in /usr/local/lib/python3.10/dist-packages (from aiohttp->datasets) (24.2.0)\n",
            "Requirement already satisfied: frozenlist>=1.1.1 in /usr/local/lib/python3.10/dist-packages (from aiohttp->datasets) (1.5.0)\n",
            "Requirement already satisfied: multidict<7.0,>=4.5 in /usr/local/lib/python3.10/dist-packages (from aiohttp->datasets) (6.1.0)\n",
            "Requirement already satisfied: propcache>=0.2.0 in /usr/local/lib/python3.10/dist-packages (from aiohttp->datasets) (0.2.0)\n",
            "Requirement already satisfied: yarl<2.0,>=1.17.0 in /usr/local/lib/python3.10/dist-packages (from aiohttp->datasets) (1.17.2)\n",
            "Requirement already satisfied: async-timeout<6.0,>=4.0 in /usr/local/lib/python3.10/dist-packages (from aiohttp->datasets) (4.0.3)\n",
            "Requirement already satisfied: typing-extensions>=3.7.4.3 in /usr/local/lib/python3.10/dist-packages (from huggingface-hub<1.0,>=0.23.2->transformers) (4.12.2)\n",
            "Requirement already satisfied: charset-normalizer<4,>=2 in /usr/local/lib/python3.10/dist-packages (from requests->transformers) (3.4.0)\n",
            "Requirement already satisfied: idna<4,>=2.5 in /usr/local/lib/python3.10/dist-packages (from requests->transformers) (3.10)\n",
            "Requirement already satisfied: urllib3<3,>=1.21.1 in /usr/local/lib/python3.10/dist-packages (from requests->transformers) (2.2.3)\n",
            "Requirement already satisfied: certifi>=2017.4.17 in /usr/local/lib/python3.10/dist-packages (from requests->transformers) (2024.8.30)\n",
            "Requirement already satisfied: python-dateutil>=2.8.2 in /usr/local/lib/python3.10/dist-packages (from pandas->datasets) (2.8.2)\n",
            "Requirement already satisfied: pytz>=2020.1 in /usr/local/lib/python3.10/dist-packages (from pandas->datasets) (2024.2)\n",
            "Requirement already satisfied: tzdata>=2022.7 in /usr/local/lib/python3.10/dist-packages (from pandas->datasets) (2024.2)\n",
            "Requirement already satisfied: six>=1.5 in /usr/local/lib/python3.10/dist-packages (from python-dateutil>=2.8.2->pandas->datasets) (1.16.0)\n"
          ]
        }
      ],
      "source": [
        "!pip install transformers datasets"
      ]
    },
    {
      "cell_type": "code",
      "source": [
        "import json\n",
        "from transformers import AutoModelForCausalLM, AutoTokenizer"
      ],
      "metadata": {
        "id": "lr8J1XmO0cPB"
      },
      "execution_count": 38,
      "outputs": []
    },
    {
      "cell_type": "code",
      "source": [
        "file_path = \"/content/Testing_dataset_simple.jsonl\"\n",
        "\n",
        "with open(file_path, 'r') as f:\n",
        "    data = [json.loads(line) for line in f]\n",
        "\n",
        "print(\"Example Question:\")\n",
        "print(data[0][\"question\"])"
      ],
      "metadata": {
        "colab": {
          "base_uri": "https://localhost:8080/"
        },
        "id": "fKrjS5vD0fYk",
        "outputId": "ae67e825-65ed-4d98-cd9b-bc0b629d2e32"
      },
      "execution_count": 39,
      "outputs": [
        {
          "output_type": "stream",
          "name": "stdout",
          "text": [
            "Example Question:\n",
            "What is the sum of 3 and 5?\n"
          ]
        }
      ]
    },
    {
      "cell_type": "code",
      "source": [
        "instruction = \"Convert this word problem into Python code to calculate the answer:\"\n",
        "for item in data:\n",
        "    item[\"question\"] = f\"{instruction} {item['question']}\"\n",
        "\n",
        "print(\"Example Question with Instruction:\")\n",
        "print(data[0][\"question\"])"
      ],
      "metadata": {
        "colab": {
          "base_uri": "https://localhost:8080/"
        },
        "id": "4EXK5dIa0kmP",
        "outputId": "d431a22f-1422-4cfc-8f05-4561b3e1c94f"
      },
      "execution_count": 40,
      "outputs": [
        {
          "output_type": "stream",
          "name": "stdout",
          "text": [
            "Example Question with Instruction:\n",
            "Convert this word problem into Python code to calculate the answer: What is the sum of 3 and 5?\n"
          ]
        }
      ]
    },
    {
      "cell_type": "code",
      "source": [
        "model_name = \"Salesforce/codegen-350M-mono\"  #switch between models\n",
        "tokenizer = AutoTokenizer.from_pretrained(model_name)\n",
        "model = AutoModelForCausalLM.from_pretrained(model_name)"
      ],
      "metadata": {
        "colab": {
          "base_uri": "https://localhost:8080/"
        },
        "id": "0wGGzJMP0nlw",
        "outputId": "565a3a75-71a7-42c7-8fe9-80843962a424"
      },
      "execution_count": 41,
      "outputs": [
        {
          "output_type": "stream",
          "name": "stderr",
          "text": [
            "Some weights of the model checkpoint at Salesforce/codegen-350M-mono were not used when initializing CodeGenForCausalLM: ['transformer.h.0.attn.causal_mask', 'transformer.h.1.attn.causal_mask', 'transformer.h.10.attn.causal_mask', 'transformer.h.11.attn.causal_mask', 'transformer.h.12.attn.causal_mask', 'transformer.h.13.attn.causal_mask', 'transformer.h.14.attn.causal_mask', 'transformer.h.15.attn.causal_mask', 'transformer.h.16.attn.causal_mask', 'transformer.h.17.attn.causal_mask', 'transformer.h.18.attn.causal_mask', 'transformer.h.19.attn.causal_mask', 'transformer.h.2.attn.causal_mask', 'transformer.h.3.attn.causal_mask', 'transformer.h.4.attn.causal_mask', 'transformer.h.5.attn.causal_mask', 'transformer.h.6.attn.causal_mask', 'transformer.h.7.attn.causal_mask', 'transformer.h.8.attn.causal_mask', 'transformer.h.9.attn.causal_mask']\n",
            "- This IS expected if you are initializing CodeGenForCausalLM from the checkpoint of a model trained on another task or with another architecture (e.g. initializing a BertForSequenceClassification model from a BertForPreTraining model).\n",
            "- This IS NOT expected if you are initializing CodeGenForCausalLM from the checkpoint of a model that you expect to be exactly identical (initializing a BertForSequenceClassification model from a BertForSequenceClassification model).\n"
          ]
        }
      ]
    },
    {
      "cell_type": "code",
      "source": [
        "def generate_code_codegen(prompt, model, tokenizer, max_length=100):\n",
        "    inputs = tokenizer(prompt, return_tensors=\"pt\")\n",
        "\n",
        "    outputs = model.generate(\n",
        "        inputs[\"input_ids\"],\n",
        "        max_length=max_length,\n",
        "        num_return_sequences=1,\n",
        "        temperature=0.7,\n",
        "        top_p=0.95,\n",
        "    )\n",
        "\n",
        "    return tokenizer.decode(outputs[0], skip_special_tokens=True)"
      ],
      "metadata": {
        "id": "CzgN0yN20ua_"
      },
      "execution_count": 42,
      "outputs": []
    },
    {
      "cell_type": "code",
      "source": [
        "question = data[0][\"question\"]\n",
        "generated_code = generate_code_codegen(question, model, tokenizer)\n",
        "print(\"Question:\", question)\n",
        "print(\"Generated Code:\", generated_code)"
      ],
      "metadata": {
        "colab": {
          "base_uri": "https://localhost:8080/"
        },
        "id": "OIUg_k0t0yjX",
        "outputId": "79f706bd-6be1-45da-91b3-dbbe92f54a68"
      },
      "execution_count": 43,
      "outputs": [
        {
          "output_type": "stream",
          "name": "stderr",
          "text": [
            "The attention mask and the pad token id were not set. As a consequence, you may observe unexpected behavior. Please pass your input's `attention_mask` to obtain reliable results.\n",
            "Setting `pad_token_id` to `eos_token_id`:None for open-end generation.\n"
          ]
        },
        {
          "output_type": "stream",
          "name": "stdout",
          "text": [
            "Question: Convert this word problem into Python code to calculate the answer: What is the sum of 3 and 5?\n",
            "Generated Code: Convert this word problem into Python code to calculate the answer: What is the sum of 3 and 5?\n",
            "\n",
            "# Input Format\n",
            "# The first line contains an integer, n, denoting the number of test cases.\n",
            "# The next n lines contains an integer, m, denoting the number of words in the test case.\n",
            "# The next m lines contains an integer, k, denoting the number of words in the test case.\n",
            "#\n",
            "# Constraints\n",
            "\n"
          ]
        }
      ]
    },
    {
      "cell_type": "code",
      "source": [
        "for item in data[:10]:  #Limits to the first 10 questions\n",
        "    question = item[\"question\"]\n",
        "    print(\"Question:\", question)\n",
        "    generated_code = generate_code_codegen(question, model, tokenizer)\n",
        "    print(\"Generated Code:\", generated_code)\n",
        "    print(\"-\" * 50)"
      ],
      "metadata": {
        "colab": {
          "base_uri": "https://localhost:8080/"
        },
        "id": "Ydw0tbd800fB",
        "outputId": "31d6e71c-4e36-4228-d511-a5232672a55c"
      },
      "execution_count": 44,
      "outputs": [
        {
          "output_type": "stream",
          "name": "stderr",
          "text": [
            "The attention mask and the pad token id were not set. As a consequence, you may observe unexpected behavior. Please pass your input's `attention_mask` to obtain reliable results.\n",
            "Setting `pad_token_id` to `eos_token_id`:None for open-end generation.\n"
          ]
        },
        {
          "output_type": "stream",
          "name": "stdout",
          "text": [
            "Question: Convert this word problem into Python code to calculate the answer: What is the sum of 3 and 5?\n"
          ]
        },
        {
          "output_type": "stream",
          "name": "stderr",
          "text": [
            "The attention mask and the pad token id were not set. As a consequence, you may observe unexpected behavior. Please pass your input's `attention_mask` to obtain reliable results.\n",
            "Setting `pad_token_id` to `eos_token_id`:None for open-end generation.\n"
          ]
        },
        {
          "output_type": "stream",
          "name": "stdout",
          "text": [
            "Generated Code: Convert this word problem into Python code to calculate the answer: What is the sum of 3 and 5?\n",
            "\n",
            "# Input Format\n",
            "# The first line contains an integer, n, denoting the number of test cases.\n",
            "# The next n lines contains an integer, m, denoting the number of words in the test case.\n",
            "# The next m lines contains an integer, k, denoting the number of words in the test case.\n",
            "#\n",
            "# Constraints\n",
            "\n",
            "--------------------------------------------------\n",
            "Question: Convert this word problem into Python code to calculate the answer: What is the result of subtracting 7 from 10?\n"
          ]
        },
        {
          "output_type": "stream",
          "name": "stderr",
          "text": [
            "The attention mask and the pad token id were not set. As a consequence, you may observe unexpected behavior. Please pass your input's `attention_mask` to obtain reliable results.\n",
            "Setting `pad_token_id` to `eos_token_id`:None for open-end generation.\n"
          ]
        },
        {
          "output_type": "stream",
          "name": "stdout",
          "text": [
            "Generated Code: Convert this word problem into Python code to calculate the answer: What is the result of subtracting 7 from 10?\n",
            "\n",
            "# Solution:\n",
            "\n",
            "# def subtract_seven(n):\n",
            "#     return n - 7\n",
            "\n",
            "# print(subtract_seven(10))\n",
            "\n",
            "# Solution:\n",
            "\n",
            "# def subtract_seven(n):\n",
            "#     return n - 7\n",
            "\n",
            "# print(subtract_seven(10))\n",
            "\n",
            "# Solution:\n",
            "\n",
            "--------------------------------------------------\n",
            "Question: Convert this word problem into Python code to calculate the answer: What is the product of 4 and 6?\n"
          ]
        },
        {
          "output_type": "stream",
          "name": "stderr",
          "text": [
            "The attention mask and the pad token id were not set. As a consequence, you may observe unexpected behavior. Please pass your input's `attention_mask` to obtain reliable results.\n",
            "Setting `pad_token_id` to `eos_token_id`:None for open-end generation.\n"
          ]
        },
        {
          "output_type": "stream",
          "name": "stdout",
          "text": [
            "Generated Code: Convert this word problem into Python code to calculate the answer: What is the product of 4 and 6?\n",
            "\n",
            "# The input will be a list of integers.\n",
            "# The output will be a single integer.\n",
            "\n",
            "# Example 1:\n",
            "# Input: nums = [4,6]\n",
            "# Output: 24\n",
            "# Explanation: The product of 4 and 6 is 24.\n",
            "\n",
            "# Example 2:\n",
            "# Input: nums = [1,2,3\n",
            "--------------------------------------------------\n",
            "Question: Convert this word problem into Python code to calculate the answer: What is the result of dividing 12 by 3?\n"
          ]
        },
        {
          "output_type": "stream",
          "name": "stderr",
          "text": [
            "The attention mask and the pad token id were not set. As a consequence, you may observe unexpected behavior. Please pass your input's `attention_mask` to obtain reliable results.\n",
            "Setting `pad_token_id` to `eos_token_id`:None for open-end generation.\n"
          ]
        },
        {
          "output_type": "stream",
          "name": "stdout",
          "text": [
            "Generated Code: Convert this word problem into Python code to calculate the answer: What is the result of dividing 12 by 3?\n",
            "\n",
            "# Input Format\n",
            "# The first line contains an integer, , the number of test cases.\n",
            "# The next  lines each contain an integer , the number of words in the test case.\n",
            "#\n",
            "# Constraints\n",
            "# 1 <= , , , <= , , , , <= , , , <= , , , <= , , , , <= , , ,\n",
            "--------------------------------------------------\n",
            "Question: Convert this word problem into Python code to calculate the answer: What is the sum of 8 and 15?\n"
          ]
        },
        {
          "output_type": "stream",
          "name": "stderr",
          "text": [
            "The attention mask and the pad token id were not set. As a consequence, you may observe unexpected behavior. Please pass your input's `attention_mask` to obtain reliable results.\n",
            "Setting `pad_token_id` to `eos_token_id`:None for open-end generation.\n"
          ]
        },
        {
          "output_type": "stream",
          "name": "stdout",
          "text": [
            "Generated Code: Convert this word problem into Python code to calculate the answer: What is the sum of 8 and 15?\n",
            "\n",
            "# The input will be a string of words separated by whitespace.\n",
            "# The output will be a single integer, the sum of the 8 and 15.\n",
            "\n",
            "# Example 1:\n",
            "# Input: words = \"1 2 3 4\"\n",
            "# Output: 16\n",
            "# Explanation: The sum of the 8 and 15 is 16.\n",
            "\n",
            "# Example 2:\n",
            "--------------------------------------------------\n",
            "Question: Convert this word problem into Python code to calculate the answer: What is the result of subtracting 20 from 50?\n"
          ]
        },
        {
          "output_type": "stream",
          "name": "stderr",
          "text": [
            "The attention mask and the pad token id were not set. As a consequence, you may observe unexpected behavior. Please pass your input's `attention_mask` to obtain reliable results.\n",
            "Setting `pad_token_id` to `eos_token_id`:None for open-end generation.\n"
          ]
        },
        {
          "output_type": "stream",
          "name": "stdout",
          "text": [
            "Generated Code: Convert this word problem into Python code to calculate the answer: What is the result of subtracting 20 from 50?\n",
            "\n",
            "# Solution:\n",
            "\n",
            "# def subtract20(n):\n",
            "#     return n - 20\n",
            "\n",
            "# print(subtract20(20))\n",
            "\n",
            "# Solution:\n",
            "\n",
            "# def subtract20(n):\n",
            "#     return n - 20\n",
            "\n",
            "# print(subtract20(20))\n",
            "\n",
            "# Solution:\n",
            "\n",
            "# def subtract\n",
            "--------------------------------------------------\n",
            "Question: Convert this word problem into Python code to calculate the answer: What is the product of 7 and 3?\n"
          ]
        },
        {
          "output_type": "stream",
          "name": "stderr",
          "text": [
            "The attention mask and the pad token id were not set. As a consequence, you may observe unexpected behavior. Please pass your input's `attention_mask` to obtain reliable results.\n",
            "Setting `pad_token_id` to `eos_token_id`:None for open-end generation.\n"
          ]
        },
        {
          "output_type": "stream",
          "name": "stdout",
          "text": [
            "Generated Code: Convert this word problem into Python code to calculate the answer: What is the product of 7 and 3?\n",
            "\n",
            "# Input Format\n",
            "# The first line contains an integer, , the number of test cases.\n",
            "# The next  lines each contain an integer, , the number of words in the test case.\n",
            "#\n",
            "# Constraints\n",
            "# 1 <= , <= 10^5\n",
            "#\n",
            "# Output Format\n",
            "# Print the answer to the question.\n",
            "#\n",
            "# Sample\n",
            "--------------------------------------------------\n",
            "Question: Convert this word problem into Python code to calculate the answer: What is the result of dividing 100 by 25?\n"
          ]
        },
        {
          "output_type": "stream",
          "name": "stderr",
          "text": [
            "The attention mask and the pad token id were not set. As a consequence, you may observe unexpected behavior. Please pass your input's `attention_mask` to obtain reliable results.\n",
            "Setting `pad_token_id` to `eos_token_id`:None for open-end generation.\n"
          ]
        },
        {
          "output_type": "stream",
          "name": "stdout",
          "text": [
            "Generated Code: Convert this word problem into Python code to calculate the answer: What is the result of dividing 100 by 25?\n",
            "\n",
            "# The input will be a string of the form \"100/25\".\n",
            "# The output will be a string of the form \"25/100\".\n",
            "\n",
            "# The input will be a string of the form \"100/25\".\n",
            "# The output will be a string of the form \"25/100\".\n",
            "\n",
            "# The input will be a string of the\n",
            "--------------------------------------------------\n",
            "Question: Convert this word problem into Python code to calculate the answer: What is the sum of 11 and 9?\n"
          ]
        },
        {
          "output_type": "stream",
          "name": "stderr",
          "text": [
            "The attention mask and the pad token id were not set. As a consequence, you may observe unexpected behavior. Please pass your input's `attention_mask` to obtain reliable results.\n",
            "Setting `pad_token_id` to `eos_token_id`:None for open-end generation.\n"
          ]
        },
        {
          "output_type": "stream",
          "name": "stdout",
          "text": [
            "Generated Code: Convert this word problem into Python code to calculate the answer: What is the sum of 11 and 9?\n",
            "\n",
            "# The input will be a string of digits separated by spaces.\n",
            "# The output will be a single integer.\n",
            "\n",
            "# The input will be a string of digits separated by spaces.\n",
            "# The output will be a single integer.\n",
            "\n",
            "# The input will be a string of digits separated by spaces.\n",
            "# The output will be a single integer.\n",
            "\n",
            "#\n",
            "--------------------------------------------------\n",
            "Question: Convert this word problem into Python code to calculate the answer: What is the result of subtracting 5 from 13?\n",
            "Generated Code: Convert this word problem into Python code to calculate the answer: What is the result of subtracting 5 from 13?\n",
            "\n",
            "# Solution:\n",
            "\n",
            "# def subtract(x, y):\n",
            "#     return x - y\n",
            "\n",
            "# print(subtract(5, 13))\n",
            "\n",
            "# Solution:\n",
            "\n",
            "# def subtract(x, y):\n",
            "#     return x - y\n",
            "\n",
            "# print(subtract(5, 13))\n",
            "\n",
            "# Solution:\n",
            "\n",
            "--------------------------------------------------\n"
          ]
        }
      ]
    }
  ]
}