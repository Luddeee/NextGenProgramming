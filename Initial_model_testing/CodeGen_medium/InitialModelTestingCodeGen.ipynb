{
  "nbformat": 4,
  "nbformat_minor": 0,
  "metadata": {
    "colab": {
      "provenance": []
    },
    "kernelspec": {
      "name": "python3",
      "display_name": "Python 3"
    },
    "language_info": {
      "name": "python"
    }
  },
  "cells": [
    {
      "cell_type": "code",
      "execution_count": 1,
      "metadata": {
        "colab": {
          "base_uri": "https://localhost:8080/"
        },
        "id": "iEjzzxyc0PzF",
        "outputId": "13ebcb4f-565b-493a-863d-60e210b3bf38"
      },
      "outputs": [
        {
          "output_type": "stream",
          "name": "stdout",
          "text": [
            "Requirement already satisfied: transformers in /usr/local/lib/python3.10/dist-packages (4.46.2)\n",
            "Requirement already satisfied: datasets in /usr/local/lib/python3.10/dist-packages (3.1.0)\n",
            "Requirement already satisfied: filelock in /usr/local/lib/python3.10/dist-packages (from transformers) (3.16.1)\n",
            "Requirement already satisfied: huggingface-hub<1.0,>=0.23.2 in /usr/local/lib/python3.10/dist-packages (from transformers) (0.26.2)\n",
            "Requirement already satisfied: numpy>=1.17 in /usr/local/lib/python3.10/dist-packages (from transformers) (1.26.4)\n",
            "Requirement already satisfied: packaging>=20.0 in /usr/local/lib/python3.10/dist-packages (from transformers) (24.2)\n",
            "Requirement already satisfied: pyyaml>=5.1 in /usr/local/lib/python3.10/dist-packages (from transformers) (6.0.2)\n",
            "Requirement already satisfied: regex!=2019.12.17 in /usr/local/lib/python3.10/dist-packages (from transformers) (2024.9.11)\n",
            "Requirement already satisfied: requests in /usr/local/lib/python3.10/dist-packages (from transformers) (2.32.3)\n",
            "Requirement already satisfied: safetensors>=0.4.1 in /usr/local/lib/python3.10/dist-packages (from transformers) (0.4.5)\n",
            "Requirement already satisfied: tokenizers<0.21,>=0.20 in /usr/local/lib/python3.10/dist-packages (from transformers) (0.20.3)\n",
            "Requirement already satisfied: tqdm>=4.27 in /usr/local/lib/python3.10/dist-packages (from transformers) (4.66.6)\n",
            "Requirement already satisfied: pyarrow>=15.0.0 in /usr/local/lib/python3.10/dist-packages (from datasets) (17.0.0)\n",
            "Requirement already satisfied: dill<0.3.9,>=0.3.0 in /usr/local/lib/python3.10/dist-packages (from datasets) (0.3.8)\n",
            "Requirement already satisfied: pandas in /usr/local/lib/python3.10/dist-packages (from datasets) (2.2.2)\n",
            "Requirement already satisfied: xxhash in /usr/local/lib/python3.10/dist-packages (from datasets) (3.5.0)\n",
            "Requirement already satisfied: multiprocess<0.70.17 in /usr/local/lib/python3.10/dist-packages (from datasets) (0.70.16)\n",
            "Requirement already satisfied: fsspec<=2024.9.0,>=2023.1.0 in /usr/local/lib/python3.10/dist-packages (from fsspec[http]<=2024.9.0,>=2023.1.0->datasets) (2024.9.0)\n",
            "Requirement already satisfied: aiohttp in /usr/local/lib/python3.10/dist-packages (from datasets) (3.11.2)\n",
            "Requirement already satisfied: aiohappyeyeballs>=2.3.0 in /usr/local/lib/python3.10/dist-packages (from aiohttp->datasets) (2.4.3)\n",
            "Requirement already satisfied: aiosignal>=1.1.2 in /usr/local/lib/python3.10/dist-packages (from aiohttp->datasets) (1.3.1)\n",
            "Requirement already satisfied: attrs>=17.3.0 in /usr/local/lib/python3.10/dist-packages (from aiohttp->datasets) (24.2.0)\n",
            "Requirement already satisfied: frozenlist>=1.1.1 in /usr/local/lib/python3.10/dist-packages (from aiohttp->datasets) (1.5.0)\n",
            "Requirement already satisfied: multidict<7.0,>=4.5 in /usr/local/lib/python3.10/dist-packages (from aiohttp->datasets) (6.1.0)\n",
            "Requirement already satisfied: propcache>=0.2.0 in /usr/local/lib/python3.10/dist-packages (from aiohttp->datasets) (0.2.0)\n",
            "Requirement already satisfied: yarl<2.0,>=1.17.0 in /usr/local/lib/python3.10/dist-packages (from aiohttp->datasets) (1.17.2)\n",
            "Requirement already satisfied: async-timeout<6.0,>=4.0 in /usr/local/lib/python3.10/dist-packages (from aiohttp->datasets) (4.0.3)\n",
            "Requirement already satisfied: typing-extensions>=3.7.4.3 in /usr/local/lib/python3.10/dist-packages (from huggingface-hub<1.0,>=0.23.2->transformers) (4.12.2)\n",
            "Requirement already satisfied: charset-normalizer<4,>=2 in /usr/local/lib/python3.10/dist-packages (from requests->transformers) (3.4.0)\n",
            "Requirement already satisfied: idna<4,>=2.5 in /usr/local/lib/python3.10/dist-packages (from requests->transformers) (3.10)\n",
            "Requirement already satisfied: urllib3<3,>=1.21.1 in /usr/local/lib/python3.10/dist-packages (from requests->transformers) (2.2.3)\n",
            "Requirement already satisfied: certifi>=2017.4.17 in /usr/local/lib/python3.10/dist-packages (from requests->transformers) (2024.8.30)\n",
            "Requirement already satisfied: python-dateutil>=2.8.2 in /usr/local/lib/python3.10/dist-packages (from pandas->datasets) (2.8.2)\n",
            "Requirement already satisfied: pytz>=2020.1 in /usr/local/lib/python3.10/dist-packages (from pandas->datasets) (2024.2)\n",
            "Requirement already satisfied: tzdata>=2022.7 in /usr/local/lib/python3.10/dist-packages (from pandas->datasets) (2024.2)\n",
            "Requirement already satisfied: six>=1.5 in /usr/local/lib/python3.10/dist-packages (from python-dateutil>=2.8.2->pandas->datasets) (1.16.0)\n"
          ]
        }
      ],
      "source": [
        "!pip install transformers datasets"
      ]
    },
    {
      "cell_type": "code",
      "source": [
        "import json\n",
        "from transformers import AutoModelForCausalLM, AutoTokenizer"
      ],
      "metadata": {
        "id": "lr8J1XmO0cPB"
      },
      "execution_count": 2,
      "outputs": []
    },
    {
      "cell_type": "code",
      "source": [
        "file_path = \"/content/Testing_dataset_simple.jsonl\"\n",
        "\n",
        "with open(file_path, 'r') as f:\n",
        "    data = [json.loads(line) for line in f]\n",
        "\n",
        "print(\"Example Question:\")\n",
        "print(data[0][\"question\"])"
      ],
      "metadata": {
        "colab": {
          "base_uri": "https://localhost:8080/"
        },
        "id": "fKrjS5vD0fYk",
        "outputId": "990d0f15-46d4-41a8-b0c2-cd1b622335c4"
      },
      "execution_count": 3,
      "outputs": [
        {
          "output_type": "stream",
          "name": "stdout",
          "text": [
            "Example Question:\n",
            "What is the sum of 3 and 5?\n"
          ]
        }
      ]
    },
    {
      "cell_type": "code",
      "source": [
        "instruction = \"Convert this word problem into Python code to calculate the answer:\"\n",
        "for item in data:\n",
        "    item[\"question\"] = f\"{instruction} {item['question']}\"\n",
        "\n",
        "print(\"Example Question with Instruction:\")\n",
        "print(data[0][\"question\"])"
      ],
      "metadata": {
        "colab": {
          "base_uri": "https://localhost:8080/"
        },
        "id": "4EXK5dIa0kmP",
        "outputId": "4fbb892d-aabe-471e-9834-ac8f3d9227fe"
      },
      "execution_count": 4,
      "outputs": [
        {
          "output_type": "stream",
          "name": "stdout",
          "text": [
            "Example Question with Instruction:\n",
            "Convert this word problem into Python code to calculate the answer: What is the sum of 3 and 5?\n"
          ]
        }
      ]
    },
    {
      "cell_type": "code",
      "source": [
        "model_name = \"Salesforce/codegen-2B-mono\"  #switch between models\n",
        "tokenizer = AutoTokenizer.from_pretrained(model_name)\n",
        "model = AutoModelForCausalLM.from_pretrained(model_name)"
      ],
      "metadata": {
        "colab": {
          "base_uri": "https://localhost:8080/"
        },
        "id": "0wGGzJMP0nlw",
        "outputId": "d5b2307a-5cd6-475e-de2b-043d1b89ec85"
      },
      "execution_count": 5,
      "outputs": [
        {
          "output_type": "stream",
          "name": "stderr",
          "text": [
            "/usr/local/lib/python3.10/dist-packages/huggingface_hub/utils/_auth.py:94: UserWarning: \n",
            "The secret `HF_TOKEN` does not exist in your Colab secrets.\n",
            "To authenticate with the Hugging Face Hub, create a token in your settings tab (https://huggingface.co/settings/tokens), set it as secret in your Google Colab and restart your session.\n",
            "You will be able to reuse this secret in all of your notebooks.\n",
            "Please note that authentication is recommended but still optional to access public models or datasets.\n",
            "  warnings.warn(\n",
            "Some weights of the model checkpoint at Salesforce/codegen-2B-mono were not used when initializing CodeGenForCausalLM: ['transformer.h.0.attn.causal_mask', 'transformer.h.1.attn.causal_mask', 'transformer.h.10.attn.causal_mask', 'transformer.h.11.attn.causal_mask', 'transformer.h.12.attn.causal_mask', 'transformer.h.13.attn.causal_mask', 'transformer.h.14.attn.causal_mask', 'transformer.h.15.attn.causal_mask', 'transformer.h.16.attn.causal_mask', 'transformer.h.17.attn.causal_mask', 'transformer.h.18.attn.causal_mask', 'transformer.h.19.attn.causal_mask', 'transformer.h.2.attn.causal_mask', 'transformer.h.20.attn.causal_mask', 'transformer.h.21.attn.causal_mask', 'transformer.h.22.attn.causal_mask', 'transformer.h.23.attn.causal_mask', 'transformer.h.24.attn.causal_mask', 'transformer.h.25.attn.causal_mask', 'transformer.h.26.attn.causal_mask', 'transformer.h.27.attn.causal_mask', 'transformer.h.28.attn.causal_mask', 'transformer.h.29.attn.causal_mask', 'transformer.h.3.attn.causal_mask', 'transformer.h.30.attn.causal_mask', 'transformer.h.31.attn.causal_mask', 'transformer.h.4.attn.causal_mask', 'transformer.h.5.attn.causal_mask', 'transformer.h.6.attn.causal_mask', 'transformer.h.7.attn.causal_mask', 'transformer.h.8.attn.causal_mask', 'transformer.h.9.attn.causal_mask']\n",
            "- This IS expected if you are initializing CodeGenForCausalLM from the checkpoint of a model trained on another task or with another architecture (e.g. initializing a BertForSequenceClassification model from a BertForPreTraining model).\n",
            "- This IS NOT expected if you are initializing CodeGenForCausalLM from the checkpoint of a model that you expect to be exactly identical (initializing a BertForSequenceClassification model from a BertForSequenceClassification model).\n"
          ]
        }
      ]
    },
    {
      "cell_type": "code",
      "source": [
        "def generate_code_codegen(prompt, model, tokenizer, max_length=100):\n",
        "    inputs = tokenizer(prompt, return_tensors=\"pt\")\n",
        "\n",
        "    outputs = model.generate(\n",
        "        inputs[\"input_ids\"],\n",
        "        max_length=max_length,\n",
        "        num_return_sequences=1,\n",
        "        temperature=0.7,\n",
        "        top_p=0.95,\n",
        "    )\n",
        "\n",
        "    return tokenizer.decode(outputs[0], skip_special_tokens=True)"
      ],
      "metadata": {
        "id": "CzgN0yN20ua_"
      },
      "execution_count": 6,
      "outputs": []
    },
    {
      "cell_type": "code",
      "source": [
        "question = data[0][\"question\"]\n",
        "generated_code = generate_code_codegen(question, model, tokenizer)\n",
        "print(\"Question:\", question)\n",
        "print(\"Generated Code:\", generated_code)"
      ],
      "metadata": {
        "colab": {
          "base_uri": "https://localhost:8080/"
        },
        "id": "OIUg_k0t0yjX",
        "outputId": "cc8e19d5-6d88-44bf-f1ce-9275a418d8a9"
      },
      "execution_count": 7,
      "outputs": [
        {
          "output_type": "stream",
          "name": "stderr",
          "text": [
            "/usr/local/lib/python3.10/dist-packages/transformers/generation/configuration_utils.py:590: UserWarning: `do_sample` is set to `False`. However, `temperature` is set to `0.7` -- this flag is only used in sample-based generation modes. You should set `do_sample=True` or unset `temperature`.\n",
            "  warnings.warn(\n",
            "/usr/local/lib/python3.10/dist-packages/transformers/generation/configuration_utils.py:595: UserWarning: `do_sample` is set to `False`. However, `top_p` is set to `0.95` -- this flag is only used in sample-based generation modes. You should set `do_sample=True` or unset `top_p`.\n",
            "  warnings.warn(\n",
            "The attention mask and the pad token id were not set. As a consequence, you may observe unexpected behavior. Please pass your input's `attention_mask` to obtain reliable results.\n",
            "Setting `pad_token_id` to `eos_token_id`:None for open-end generation.\n",
            "The attention mask is not set and cannot be inferred from input because pad token is same as eos token. As a consequence, you may observe unexpected behavior. Please pass your input's `attention_mask` to obtain reliable results.\n"
          ]
        },
        {
          "output_type": "stream",
          "name": "stdout",
          "text": [
            "Question: Convert this word problem into Python code to calculate the answer: What is the sum of 3 and 5?\n",
            "Generated Code: Convert this word problem into Python code to calculate the answer: What is the sum of 3 and 5?\n",
            "#\n",
            "# Hint: You might want to use the operator + to add together numbers.\n",
            "#\n",
            "# The Python code below will run on Python 3.6+.\n",
            "#\n",
            "\n",
            "# def solution(n):\n",
            "#     return n + 3 + 5\n",
            "\n",
            "# If you run this code, it should print 46\n",
            "# solution(3)\n",
            "# solution(\n"
          ]
        }
      ]
    },
    {
      "cell_type": "code",
      "source": [
        "for item in data[:10]:  #Limits to the first 10 questions\n",
        "    question = item[\"question\"]\n",
        "    print(\"Question:\", question)\n",
        "    generated_code = generate_code_codegen(question, model, tokenizer)\n",
        "    print(\"Generated Code:\", generated_code)\n",
        "    print(\"-\" * 50)"
      ],
      "metadata": {
        "colab": {
          "base_uri": "https://localhost:8080/"
        },
        "id": "Ydw0tbd800fB",
        "outputId": "af179a2e-bc23-4fcc-d713-5830083bd613"
      },
      "execution_count": 8,
      "outputs": [
        {
          "output_type": "stream",
          "name": "stderr",
          "text": [
            "The attention mask and the pad token id were not set. As a consequence, you may observe unexpected behavior. Please pass your input's `attention_mask` to obtain reliable results.\n",
            "Setting `pad_token_id` to `eos_token_id`:None for open-end generation.\n"
          ]
        },
        {
          "output_type": "stream",
          "name": "stdout",
          "text": [
            "Question: Convert this word problem into Python code to calculate the answer: What is the sum of 3 and 5?\n"
          ]
        },
        {
          "output_type": "stream",
          "name": "stderr",
          "text": [
            "The attention mask and the pad token id were not set. As a consequence, you may observe unexpected behavior. Please pass your input's `attention_mask` to obtain reliable results.\n",
            "Setting `pad_token_id` to `eos_token_id`:None for open-end generation.\n"
          ]
        },
        {
          "output_type": "stream",
          "name": "stdout",
          "text": [
            "Generated Code: Convert this word problem into Python code to calculate the answer: What is the sum of 3 and 5?\n",
            "#\n",
            "# Hint: You might want to use the operator + to add together numbers.\n",
            "#\n",
            "# The Python code below will run on Python 3.6+.\n",
            "#\n",
            "\n",
            "# def solution(n):\n",
            "#     return n + 3 + 5\n",
            "\n",
            "# If you run this code, it should print 46\n",
            "# solution(3)\n",
            "# solution(\n",
            "--------------------------------------------------\n",
            "Question: Convert this word problem into Python code to calculate the answer: What is the result of subtracting 7 from 10?\n"
          ]
        },
        {
          "output_type": "stream",
          "name": "stderr",
          "text": [
            "The attention mask and the pad token id were not set. As a consequence, you may observe unexpected behavior. Please pass your input's `attention_mask` to obtain reliable results.\n",
            "Setting `pad_token_id` to `eos_token_id`:None for open-end generation.\n"
          ]
        },
        {
          "output_type": "stream",
          "name": "stdout",
          "text": [
            "Generated Code: Convert this word problem into Python code to calculate the answer: What is the result of subtracting 7 from 10?\n",
            "#\n",
            "# Hint: Python's 'operator' module provides access to all of the standard operators.\n",
            "#\n",
            "# Answer: -7\n",
            "\n",
            "# Solution\n",
            "\n",
            "#!/bin/python3\n",
            "\n",
            "import math\n",
            "import os\n",
            "import random\n",
            "import re\n",
            "import sys\n",
            "\n",
            "# Complete the 'plusMinus' function below.\n",
            "#\n",
            "# The\n",
            "--------------------------------------------------\n",
            "Question: Convert this word problem into Python code to calculate the answer: What is the product of 4 and 6?\n"
          ]
        },
        {
          "output_type": "stream",
          "name": "stderr",
          "text": [
            "The attention mask and the pad token id were not set. As a consequence, you may observe unexpected behavior. Please pass your input's `attention_mask` to obtain reliable results.\n",
            "Setting `pad_token_id` to `eos_token_id`:None for open-end generation.\n"
          ]
        },
        {
          "output_type": "stream",
          "name": "stdout",
          "text": [
            "Generated Code: Convert this word problem into Python code to calculate the answer: What is the product of 4 and 6?\n",
            "#\n",
            "# Hint: You can solve this problem using one line of code.\n",
            "#\n",
            "# Solution\n",
            "#\n",
            "# The solution is already written for you. You just need to change the values of a and b to solve the problem.\n",
            "#\n",
            "# Sample Input\n",
            "#\n",
            "# a = 4\n",
            "# b = 6\n",
            "#\n",
            "# Sample Output\n",
            "#\n",
            "\n",
            "--------------------------------------------------\n",
            "Question: Convert this word problem into Python code to calculate the answer: What is the result of dividing 12 by 3?\n"
          ]
        },
        {
          "output_type": "stream",
          "name": "stderr",
          "text": [
            "The attention mask and the pad token id were not set. As a consequence, you may observe unexpected behavior. Please pass your input's `attention_mask` to obtain reliable results.\n",
            "Setting `pad_token_id` to `eos_token_id`:None for open-end generation.\n"
          ]
        },
        {
          "output_type": "stream",
          "name": "stdout",
          "text": [
            "Generated Code: Convert this word problem into Python code to calculate the answer: What is the result of dividing 12 by 3?\n",
            "#\n",
            "# Hint: Python's % operator works with integers and floats.\n",
            "\n",
            "# Solution\n",
            "\n",
            "# The % operator returns the remainder of the division of the left operand by the right operand.\n",
            "\n",
            "# The % operator is used to find the remainder of a division.\n",
            "\n",
            "# The % operator is used to find the remainder of a division.\n",
            "\n",
            "--------------------------------------------------\n",
            "Question: Convert this word problem into Python code to calculate the answer: What is the sum of 8 and 15?\n"
          ]
        },
        {
          "output_type": "stream",
          "name": "stderr",
          "text": [
            "The attention mask and the pad token id were not set. As a consequence, you may observe unexpected behavior. Please pass your input's `attention_mask` to obtain reliable results.\n",
            "Setting `pad_token_id` to `eos_token_id`:None for open-end generation.\n"
          ]
        },
        {
          "output_type": "stream",
          "name": "stdout",
          "text": [
            "Generated Code: Convert this word problem into Python code to calculate the answer: What is the sum of 8 and 15?\n",
            "\n",
            "# Solution\n",
            "\n",
            "# In[ ]:\n",
            "\n",
            "\n",
            "# Solution\n",
            "\n",
            "# Enter your code here. Read input from STDIN. Print output to STDOUT\n",
            "\n",
            "n = int(input())\n",
            "\n",
            "for i in range(n):\n",
            "    a,b = map(int,input().split())\n",
            "    print(a+b)\n",
            "\n",
            "\n",
            "# In[\n",
            "--------------------------------------------------\n",
            "Question: Convert this word problem into Python code to calculate the answer: What is the result of subtracting 20 from 50?\n"
          ]
        },
        {
          "output_type": "stream",
          "name": "stderr",
          "text": [
            "The attention mask and the pad token id were not set. As a consequence, you may observe unexpected behavior. Please pass your input's `attention_mask` to obtain reliable results.\n",
            "Setting `pad_token_id` to `eos_token_id`:None for open-end generation.\n"
          ]
        },
        {
          "output_type": "stream",
          "name": "stdout",
          "text": [
            "Generated Code: Convert this word problem into Python code to calculate the answer: What is the result of subtracting 20 from 50?\n",
            "\n",
            "# Solution\n",
            "\n",
            "# In[ ]:\n",
            "\n",
            "\n",
            "# Write your code here\n",
            "print(50-20)\n",
            "\n",
            "\n",
            "# In[ ]:\n",
            "\n",
            "\n",
            "\n",
            "\n",
            "\n",
            "--------------------------------------------------\n",
            "Question: Convert this word problem into Python code to calculate the answer: What is the product of 7 and 3?\n"
          ]
        },
        {
          "output_type": "stream",
          "name": "stderr",
          "text": [
            "The attention mask and the pad token id were not set. As a consequence, you may observe unexpected behavior. Please pass your input's `attention_mask` to obtain reliable results.\n",
            "Setting `pad_token_id` to `eos_token_id`:None for open-end generation.\n"
          ]
        },
        {
          "output_type": "stream",
          "name": "stdout",
          "text": [
            "Generated Code: Convert this word problem into Python code to calculate the answer: What is the product of 7 and 3?\n",
            "\n",
            "# Solution\n",
            "\n",
            "#!/bin/python3\n",
            "\n",
            "import math\n",
            "import os\n",
            "import random\n",
            "import re\n",
            "import sys\n",
            "\n",
            "# Complete the multiplication function below.\n",
            "def multiplication(a, b):\n",
            "    return a*b\n",
            "\n",
            "if __name__ == '__main__':\n",
            "    fptr = open(os.environ['OUTPUT\n",
            "--------------------------------------------------\n",
            "Question: Convert this word problem into Python code to calculate the answer: What is the result of dividing 100 by 25?\n"
          ]
        },
        {
          "output_type": "stream",
          "name": "stderr",
          "text": [
            "The attention mask and the pad token id were not set. As a consequence, you may observe unexpected behavior. Please pass your input's `attention_mask` to obtain reliable results.\n",
            "Setting `pad_token_id` to `eos_token_id`:None for open-end generation.\n"
          ]
        },
        {
          "output_type": "stream",
          "name": "stdout",
          "text": [
            "Generated Code: Convert this word problem into Python code to calculate the answer: What is the result of dividing 100 by 25?\n",
            "\n",
            "# Solution\n",
            "\n",
            "#!/bin/python3\n",
            "\n",
            "import math\n",
            "import os\n",
            "import random\n",
            "import re\n",
            "import sys\n",
            "\n",
            "# Complete the divisibleSumPairs function below.\n",
            "def divisibleSumPairs(n, k, ar):\n",
            "    count = 0\n",
            "    for i in range(n):\n",
            "        for j in range(i\n",
            "--------------------------------------------------\n",
            "Question: Convert this word problem into Python code to calculate the answer: What is the sum of 11 and 9?\n"
          ]
        },
        {
          "output_type": "stream",
          "name": "stderr",
          "text": [
            "The attention mask and the pad token id were not set. As a consequence, you may observe unexpected behavior. Please pass your input's `attention_mask` to obtain reliable results.\n",
            "Setting `pad_token_id` to `eos_token_id`:None for open-end generation.\n"
          ]
        },
        {
          "output_type": "stream",
          "name": "stdout",
          "text": [
            "Generated Code: Convert this word problem into Python code to calculate the answer: What is the sum of 11 and 9?\n",
            "\n",
            "# Solution\n",
            "\n",
            "# In[ ]:\n",
            "\n",
            "\n",
            "# Solution\n",
            "\n",
            "# Enter your code here. Read input from STDIN. Print output to STDOUT\n",
            "\n",
            "n = int(input())\n",
            "\n",
            "for i in range(n):\n",
            "    a,b = map(int,input().split())\n",
            "    print(a+b)\n",
            "\n",
            "\n",
            "# In[\n",
            "--------------------------------------------------\n",
            "Question: Convert this word problem into Python code to calculate the answer: What is the result of subtracting 5 from 13?\n",
            "Generated Code: Convert this word problem into Python code to calculate the answer: What is the result of subtracting 5 from 13?\n",
            "\n",
            "# Solution\n",
            "\n",
            "#!/bin/python3\n",
            "\n",
            "import math\n",
            "import os\n",
            "import random\n",
            "import re\n",
            "import sys\n",
            "\n",
            "# Complete the solve function below.\n",
            "def solve(s):\n",
            "    return int(s) - 5\n",
            "\n",
            "if __name__ == '__main__':\n",
            "    fptr = open(os.environ['\n",
            "--------------------------------------------------\n"
          ]
        }
      ]
    }
  ]
}